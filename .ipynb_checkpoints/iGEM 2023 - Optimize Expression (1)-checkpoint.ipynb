{
 "cells": [
  {
   "cell_type": "code",
   "execution_count": 6,
   "metadata": {
    "colab": {
     "base_uri": "https://localhost:8080/"
    },
    "collapsed": true,
    "executionInfo": {
     "elapsed": 19747,
     "status": "ok",
     "timestamp": 1696331628049,
     "user": {
      "displayName": "Anirudh Rao be21b004",
      "userId": "15393149603523611863"
     },
     "user_tz": -330
    },
    "id": "Q-N2KXLkJvF9",
    "outputId": "e26ac79b-1d28-4ef1-9c8a-19843d9a1a5a"
   },
   "outputs": [
    {
     "name": "stdout",
     "output_type": "stream",
     "text": [
      "⏬ Downloading https://github.com/conda-forge/miniforge/releases/download/23.1.0-1/Mambaforge-23.1.0-1-Linux-x86_64.sh...\n",
      "📦 Installing...\n",
      "📌 Adjusting configuration...\n",
      "🩹 Patching environment...\n",
      "⏲ Done in 0:00:14\n",
      "🔁 Restarting kernel...\n"
     ]
    }
   ],
   "source": [
    "!pip install -q condacolab\n",
    "import condacolab\n",
    "condacolab.install()"
   ]
  },
  {
   "cell_type": "code",
   "execution_count": 1,
   "metadata": {
    "colab": {
     "base_uri": "https://localhost:8080/"
    },
    "executionInfo": {
     "elapsed": 57216,
     "status": "ok",
     "timestamp": 1696331694880,
     "user": {
      "displayName": "Anirudh Rao be21b004",
      "userId": "15393149603523611863"
     },
     "user_tz": -330
    },
    "id": "Y7FKMGKwKKYP",
    "outputId": "73358ace-1e62-4350-81eb-c373eb83fcb5"
   },
   "outputs": [
    {
     "name": "stdout",
     "output_type": "stream",
     "text": [
      "/usr/bin/sh: 1: conda: not found\r\n"
     ]
    }
   ],
   "source": [
    "!conda install -c bioconda viennarna"
   ]
  },
  {
   "cell_type": "code",
   "execution_count": 2,
   "metadata": {
    "executionInfo": {
     "elapsed": 999,
     "status": "ok",
     "timestamp": 1696331804279,
     "user": {
      "displayName": "Anirudh Rao be21b004",
      "userId": "15393149603523611863"
     },
     "user_tz": -330
    },
    "id": "88xdKObTZ8yZ"
   },
   "outputs": [],
   "source": [
    "import RNA\n",
    "import numpy as np\n",
    "import pandas as pd\n",
    "import matplotlib.pyplot as plt\n",
    "import joblib\n",
    "import random"
   ]
  },
  {
   "cell_type": "code",
   "execution_count": 3,
   "metadata": {
    "executionInfo": {
     "elapsed": 5,
     "status": "ok",
     "timestamp": 1696331804280,
     "user": {
      "displayName": "Anirudh Rao be21b004",
      "userId": "15393149603523611863"
     },
     "user_tz": -330
    },
    "id": "Gr8D2ULi5YVk"
   },
   "outputs": [],
   "source": [
    "def find_hybridization_energy(sequence1, sequence2, temp):\n",
    "\n",
    "    RNA.cvar.temperature = temp\n",
    "\n",
    "    # First, we concatenate the two RNA sequences using the '&' symbol\n",
    "    hybrid_sequence = RNA.fold_compound(f\"{sequence1}&{sequence2}\")\n",
    "\n",
    "    # Finally, we use the ViennaRNA library's inbuilt mfe_dimer function to compute the hybridization energy\n",
    "    structure, energy = hybrid_sequence.mfe_dimer()\n",
    "\n",
    "    return energy"
   ]
  },
  {
   "cell_type": "code",
   "execution_count": 4,
   "metadata": {
    "executionInfo": {
     "elapsed": 5,
     "status": "ok",
     "timestamp": 1696331804280,
     "user": {
      "displayName": "Anirudh Rao be21b004",
      "userId": "15393149603523611863"
     },
     "user_tz": -330
    },
    "id": "NdIn96w4t-uU"
   },
   "outputs": [],
   "source": [
    "def find_spacing(rRNA,rbs,temp,gram):\n",
    "\n",
    "  RNA.cvar.temperature = temp\n",
    "  min_energy = 0\n",
    "  sd = \"\"\n",
    "  best_spacing = 0\n",
    "\n",
    "  for i in range(len(rbs)-len(rRNA)+1):\n",
    "\n",
    "    energy = find_hybridization_energy(rRNA,rbs[i:i+len(rRNA)],temp)\n",
    "    spacing = len(rbs[i+len(rRNA):])\n",
    "    penalty = 1\n",
    "\n",
    "    if gram == \"Positive\":\n",
    "      opt_spacing = 9\n",
    "      if spacing < opt_spacing:\n",
    "        penalty = np.exp(-0.5*(((spacing - opt_spacing)**2)/1))                   # Punishing lower spacing more for Gram-positives\n",
    "      elif spacing > opt_spacing:\n",
    "        penalty = np.exp(-0.5*(((spacing - opt_spacing)**2)/2))\n",
    "    elif gram == \"Negative\":\n",
    "      opt_spacing = 7\n",
    "      if spacing < opt_spacing:\n",
    "        penalty = np.exp(-0.5*(((spacing - opt_spacing)**2)/2))\n",
    "      elif spacing > opt_spacing:\n",
    "        penalty = np.exp(-0.5*(((spacing - opt_spacing)**2)/1))                   # Punishing higher spacing more for Gram-negatives\n",
    "\n",
    "    energy = energy * penalty\n",
    "\n",
    "    if energy <= min_energy:\n",
    "      min_energy = energy\n",
    "      sd = rbs[i:i+len(rRNA)]\n",
    "      best_spacing = spacing\n",
    "\n",
    "  return find_hybridization_energy(rRNA,sd,temp), sd, best_spacing"
   ]
  },
  {
   "cell_type": "code",
   "execution_count": 5,
   "metadata": {
    "executionInfo": {
     "elapsed": 4,
     "status": "ok",
     "timestamp": 1696331804280,
     "user": {
      "displayName": "Anirudh Rao be21b004",
      "userId": "15393149603523611863"
     },
     "user_tz": -330
    },
    "id": "5wy1M6wsCSRc"
   },
   "outputs": [],
   "source": [
    "def find_au_score(rbs,sd):\n",
    "\n",
    "    sd_loc = rbs.index(sd)\n",
    "    upstream = rbs[sd_loc-11 : sd_loc]\n",
    "\n",
    "    au_score = upstream.count(\"A\") + upstream.count(\"U\")\n",
    "\n",
    "    if len(upstream) == 0:\n",
    "      return 0\n",
    "    else:\n",
    "      return au_score / len(upstream)"
   ]
  },
  {
   "cell_type": "code",
   "execution_count": 6,
   "metadata": {
    "executionInfo": {
     "elapsed": 5,
     "status": "ok",
     "timestamp": 1696331804280,
     "user": {
      "displayName": "Anirudh Rao be21b004",
      "userId": "15393149603523611863"
     },
     "user_tz": -330
    },
    "id": "fUWOmOJkLUev"
   },
   "outputs": [],
   "source": [
    "def find_accessibility_score(rbs,cds,sd,temp):\n",
    "\n",
    "  RNA.cvar.temperature = temp\n",
    "\n",
    "  sd_loc = rbs.index(sd)\n",
    "\n",
    "  upstream = rbs[-27:]\n",
    "  downstream = cds[:54-len(upstream)]\n",
    "\n",
    "  structure, fold_energy = RNA.fold(upstream + downstream)\n",
    "\n",
    "  loop_count = structure.count(\".\")                                               # Number of unpaired nucleotides\n",
    "  stack_count = structure.count(\"(\") + structure.count(\")\")                       # Number of paired nucleotides\n",
    "\n",
    "  accessibility_score = loop_count / (loop_count + stack_count)\n",
    "\n",
    "  return structure, accessibility_score, fold_energy"
   ]
  },
  {
   "cell_type": "code",
   "execution_count": 7,
   "metadata": {
    "executionInfo": {
     "elapsed": 5,
     "status": "ok",
     "timestamp": 1696331804281,
     "user": {
      "displayName": "Anirudh Rao be21b004",
      "userId": "15393149603523611863"
     },
     "user_tz": -330
    },
    "id": "f1AXvLhKRFfi"
   },
   "outputs": [],
   "source": [
    "def find_standby_score(rbs,sd,structure):\n",
    "\n",
    "  sd_loc = rbs.index(sd)\n",
    "\n",
    "  upstream = rbs[:sd_loc]\n",
    "  upstream_structure = structure[:sd_loc]\n",
    "  rRNA_length = 8\n",
    "\n",
    "  if len(upstream_structure) != 0:\n",
    "\n",
    "    upstream = upstream[::-1]\n",
    "    upstream_structure = upstream_structure[::-1]\n",
    "\n",
    "    best_accessibility = 0\n",
    "\n",
    "    for i in range(len(upstream)-rRNA_length+1):\n",
    "\n",
    "      gap = i+rRNA_length\n",
    "      loop_count = upstream_structure[i:i+rRNA_length].count(\".\")\n",
    "      stack_count = upstream_structure[i:i+rRNA_length].count(\"(\") + upstream_structure[i:i+rRNA_length].count(\")\")\n",
    "      accessibility = loop_count / rRNA_length\n",
    "      penalised_accessibility = accessibility / gap\n",
    "\n",
    "      if penalised_accessibility > best_accessibility:\n",
    "        best_accessibility = accessibility\n",
    "\n",
    "    return best_accessibility\n",
    "\n",
    "  else:\n",
    "\n",
    "    return 0"
   ]
  },
  {
   "cell_type": "code",
   "execution_count": 8,
   "metadata": {
    "executionInfo": {
     "elapsed": 5,
     "status": "ok",
     "timestamp": 1696331804281,
     "user": {
      "displayName": "Anirudh Rao be21b004",
      "userId": "15393149603523611863"
     },
     "user_tz": -330
    },
    "id": "CDLbAQNelOqa"
   },
   "outputs": [],
   "source": [
    "codon_scores = {\"AGC\":0,\"CCG\":0.78,\"CAG\":0.95,\"UGC\":1.01,\"CUC\":1.1,\"UCC\":1.1,\"CCC\":1.17,\"UAG\":1.19,\"CGG\":1.2,\"CUU\":1.21,\"CCU\":1.26,\"UUC\":1.29,\"CCA\":1.3,\"UAC\":1.3,\"CGC\":1.31,\"UCU\":1.32,\"ACC\":1.32,\"ACA\":1.33,\"CGU\":1.33,\"GCC\":1.33,\"CUA\":1.34,\"AAC\":1.37,\"CAC\":1.41,\"UCA\":1.41,\"AAA\":1.43,\"GCU\":1.45,\"AGU\":1.46,\"UAA\":1.47,\"GGC\":1.48,\"AGA\":1.51,\"UUU\":1.54,\"GAC\":1.54,\"AAG\":1.56,\"ACU\":1.56,\"UGA\":1.56,\"UGU\":1.59,\"CAA\":1.59,\"GUC\":1.61,\"GCA\":1.64,\"UGG\":1.66,\"CGA\":1.69,\"AGG\":1.71,\"GGA\":1.71,\"GGU\":1.71,\"GAG\":1.72,\"UUA\":1.72,\"UCG\":1.78,\"GGG\":1.79,\"GCG\":1.84,\"ACG\":1.88,\"GAU\":1.92,\"AAU\":1.93,\"GAA\":2.02,\"GUU\":2.1,\"GUA\":2.11,\"UAU\":2.16,\"CAU\":2.17,\"AUC\":2.41,\"AUU\":2.57,\"CUG\":2.63,\"AUA\":2.73,\"UUG\":4.18,\"GUG\":4.22,\"AUG\":4.3}"
   ]
  },
  {
   "cell_type": "code",
   "execution_count": 9,
   "metadata": {
    "executionInfo": {
     "elapsed": 5,
     "status": "ok",
     "timestamp": 1696331804281,
     "user": {
      "displayName": "Anirudh Rao be21b004",
      "userId": "15393149603523611863"
     },
     "user_tz": -330
    },
    "id": "QbSeQAtptsoC"
   },
   "outputs": [],
   "source": [
    "def find_codon_score(cds):\n",
    "\n",
    "  codon = cds[:3]\n",
    "  codon_score = codon_scores[codon]\n",
    "\n",
    "  return codon_score"
   ]
  },
  {
   "cell_type": "code",
   "execution_count": 10,
   "metadata": {
    "executionInfo": {
     "elapsed": 1777,
     "status": "ok",
     "timestamp": 1696331806054,
     "user": {
      "displayName": "Anirudh Rao be21b004",
      "userId": "15393149603523611863"
     },
     "user_tz": -330
    },
    "id": "PXxkog8j5gIi"
   },
   "outputs": [],
   "source": [
    "model = joblib.load(\"iGEM IITM 2023 - Final Model.joblib\")"
   ]
  },
  {
   "cell_type": "code",
   "execution_count": 11,
   "metadata": {
    "executionInfo": {
     "elapsed": 5,
     "status": "ok",
     "timestamp": 1696331806054,
     "user": {
      "displayName": "Anirudh Rao be21b004",
      "userId": "15393149603523611863"
     },
     "user_tz": -330
    },
    "id": "HwjX-8vs5ioW"
   },
   "outputs": [],
   "source": [
    "def find_tir(gram_stain,temperature,rRNA,RBS,CDS):\n",
    "\n",
    "  rRNA = rRNA.upper().replace(\"T\",\"U\")\n",
    "  RBS = RBS.upper().replace(\"T\",\"U\")\n",
    "  CDS = CDS.upper().replace(\"T\",\"U\")\n",
    "  rRNA = rRNA[-8:]\n",
    "\n",
    "  binding_energy, shine_dalgarno, spacing = find_spacing(rRNA,RBS,temperature,gram_stain)\n",
    "  au_score = find_au_score(RBS,shine_dalgarno)\n",
    "  structure, accessibility_score, folding_energy = find_accessibility_score(RBS,CDS,shine_dalgarno,temperature)\n",
    "  standby_accessibility = find_standby_score(RBS,shine_dalgarno,structure)\n",
    "  codon_score = find_codon_score(CDS)\n",
    "\n",
    "  gram_stain_numeric = 1\n",
    "  if gram_stain == \"Negative\":\n",
    "    gram_stain_numeric = 0\n",
    "\n",
    "  features = np.array([binding_energy, spacing, au_score, accessibility_score, folding_energy, standby_accessibility, codon_score,gram_stain_numeric]).reshape(1,-1)\n",
    "  df = pd.DataFrame(features)\n",
    "  df.columns = [\"Binding energy\",\"Spacing\",\"AU score\",\"Accessibility score\",\"Folding energy\",\"Standby accessibility\",\"Codon score\",\"Gram stain numeric\"]\n",
    "\n",
    "  tir = model.predict(df)[0]\n",
    "\n",
    "  return tir"
   ]
  },
  {
   "cell_type": "code",
   "execution_count": 25,
   "metadata": {
    "executionInfo": {
     "elapsed": 721,
     "status": "ok",
     "timestamp": 1696332641029,
     "user": {
      "displayName": "Anirudh Rao be21b004",
      "userId": "15393149603523611863"
     },
     "user_tz": -330
    },
    "id": "aLtqJrT2_co_"
   },
   "outputs": [],
   "source": [
    "# Functions to mutate the RBS sequence\n",
    "\n",
    "def mutate_base(base, mutation_rate):\n",
    "    bases = \"ACGU\"\n",
    "    return random.choice(bases) if random.random() < mutation_rate else base\n",
    "\n",
    "def mutate_rbs(rbs, mutation_rate = 0.1, positions_to_protect = []):\n",
    "    bases = \"ACGU\"\n",
    "    mutated_rbs = []\n",
    "    for idx, base in enumerate(rbs):\n",
    "        if idx in positions_to_protect:\n",
    "            mutated_rbs.append(base)    # Keep the base unchanged for the Shine-Dalgarno Sequence\n",
    "        else:\n",
    "            mutated_rbs.append(mutate_base(base, mutation_rate)) # Mutate the rest\n",
    "\n",
    "    return ''.join(mutated_rbs)\n",
    "\n",
    "def single_point_crossover(mutated_rbs_list, i1, i2, i3, i4):\n",
    "    # Perform single-point crossover\n",
    "    rbs1 = mutated_rbs_list[i1]\n",
    "    rbs2 = mutated_rbs_list[i2]\n",
    "    rbs3 = mutated_rbs_list[i3]\n",
    "    rbs4 = mutated_rbs_list[i4]\n",
    "\n",
    "    crossover_point = random.randint(1, len(rbs1) - 1)\n",
    "    # Exchanging the RBS at a random crossover point\n",
    "    child1 = rbs1[:crossover_point] + rbs2[crossover_point:]\n",
    "    child2 = rbs2[:crossover_point] + rbs1[crossover_point:]\n",
    "    child3 = rbs3[:crossover_point] + rbs4[crossover_point:]\n",
    "    child4 = rbs4[:crossover_point] + rbs3[crossover_point:]\n",
    "    return child1, child2, child3, child4\n",
    "\n",
    "# RBS optimization\n",
    "def optimize_rbs(desired_initiation_rate, gram_stain, temperature, rRNA, RBS, CDS, generations=100, population_size=50, mutation_rate=0.1):\n",
    "    rbs_sequence = RBS.upper().replace(\"T\",\"U\")\n",
    "    if rbs_sequence == \"\":\n",
    "      rbs_sequence = \"\".join(random.choices([\"A\",\"C\",\"G\",\"U\"],k=27))\n",
    "    CDS = CDS.upper().replace(\"T\",\"U\")\n",
    "    consecutive_same_best_rate = 0\n",
    "    best_RBS_sequences = []\n",
    "    best_RBS_rates = []\n",
    "\n",
    "    for generation in range(generations):\n",
    "        # Calculate initiation rate for the current RBS sequence\n",
    "        current_rate = find_tir(gram_stain, temperature, rRNA, rbs_sequence, CDS)\n",
    "        best_RBS_sequences.append(rbs_sequence)\n",
    "        best_RBS_rates.append(current_rate)\n",
    "        print(f\"Generation {generation+1}, Current RBS: {rbs_sequence}, Initiation Rate: {current_rate}\")\n",
    "\n",
    "        if abs(current_rate - desired_initiation_rate) < 1e-4: # Choosing the accuracy we require\n",
    "            print(\"Optimization successful!\")\n",
    "            break\n",
    "        # Generate a new mutated RBS sequence\n",
    "        best_rate = 500 # Setting an arbitrary high best rate\n",
    "        rbs_sequence_1 = rbs_sequence\n",
    "        mutated_rbs_list = [] # Creating a list for the mutated RBS\n",
    "\n",
    "        for i in range(population_size):\n",
    "            new_rbs = mutate_rbs(rbs_sequence, mutation_rate)\n",
    "            mutated_rbs_list.append(new_rbs)\n",
    "\n",
    "        # Perform crossover and add children to the population\n",
    "        for _ in range(population_size // 2):\n",
    "            i1, i2, i3, i4 = random.sample(range(population_size), 4)  # Choose 4 distinct random parents\n",
    "            child1, child2, child3, child4 = single_point_crossover(mutated_rbs_list, i1, i2, i3, i4)\n",
    "            mutated_rbs_list.extend([child1, child2, child3, child4])\n",
    "\n",
    "        new_rates = []\n",
    "        for i in range(len(mutated_rbs_list)):\n",
    "            new_rbs = mutated_rbs_list[i]\n",
    "            new_rate = find_tir(gram_stain, temperature, rRNA, new_rbs, CDS)\n",
    "            new_rates.append(new_rate) # List for the rates of the mutated sequences\n",
    "\n",
    "        # Replace the current RBS sequence with the mutated one if it leads to a better initiation rate\n",
    "        for i in range(len(mutated_rbs_list)):\n",
    "            if abs(new_rates[i] - desired_initiation_rate) < abs(current_rate - desired_initiation_rate):\n",
    "                if abs(new_rates[i] - desired_initiation_rate) < abs(best_rate - desired_initiation_rate):\n",
    "                    best_rate = new_rates[i]\n",
    "                    rbs_sequence_1 = mutated_rbs_list[i]\n",
    "\n",
    "        if best_rate == 500: # If the same rate is repeated multiple times, the best rate is not updated\n",
    "            consecutive_same_best_rate += 1\n",
    "        else:\n",
    "            consecutive_same_best_rate = 0\n",
    "\n",
    "        if consecutive_same_best_rate == 4:\n",
    "            if abs(current_rate - desired_initiation_rate) > 0.01:\n",
    "                print(\"Retrying for a better result\")\n",
    "                rbs_sequence_1 = RBS\n",
    "            else:\n",
    "                print(\"Optimization successful!\")\n",
    "                break\n",
    "\n",
    "        rbs_sequence = rbs_sequence_1  # Update the current RBS sequence\n",
    "\n",
    "    deviations = [abs(rate-desired_initiation_rate) for rate in best_RBS_rates]\n",
    "    best_RBS_rate = best_RBS_rates[deviations.index(min(deviations))]\n",
    "    best_RBS_sequence = best_RBS_sequences[deviations.index(min(deviations))]\n",
    "\n",
    "    return best_RBS_sequence, best_RBS_rate"
   ]
  },
  {
   "cell_type": "code",
   "execution_count": 26,
   "metadata": {
    "colab": {
     "base_uri": "https://localhost:8080/"
    },
    "executionInfo": {
     "elapsed": 7782,
     "status": "ok",
     "timestamp": 1696332665091,
     "user": {
      "displayName": "Anirudh Rao be21b004",
      "userId": "15393149603523611863"
     },
     "user_tz": -330
    },
    "id": "uXo_l_5YNwzN",
    "outputId": "cc06fde2-b81c-4cfa-dd83-90ca9111e7c6"
   },
   "outputs": [
    {
     "name": "stdout",
     "output_type": "stream",
     "text": [
      "Generation 1, Current RBS: UUCUAGAGUGCAUAAGGAGUGCUCG, Initiation Rate: 4.01895293159221\n",
      "Generation 2, Current RBS: UUCUAGAGUGCAUAAAGAGUGCCCG, Initiation Rate: 3.058924879388129\n",
      "Generation 3, Current RBS: UUCUAGAGUACAUAAAGAGUGCCCA, Initiation Rate: 2.9997138493044058\n",
      "Generation 4, Current RBS: GUCUCGAGUACAUAAAGAGUGCCCA, Initiation Rate: 3.000086185415223\n",
      "Optimization successful!\n",
      "\n",
      "Optimized RBS: GUCUCGAGUACAUAAAGAGUGCCCA\n",
      "Optimized RBS rate: 3.000086185415223\n"
     ]
    }
   ],
   "source": [
    "gram_stain = \"Negative\"\n",
    "temperature = 37\n",
    "rRNA = \"CCUCCUUA\"\n",
    "RBS = \"UUCUAGAGUGCAUAAGGAGUGCUCG\"\n",
    "CDS = \"AUGUCCAGAUUAGAUAAAAGUAAAGUGAUGGCGAGCUCUGAAGACGUUAUCAAAGAGUUCAUGCGUUUCAAAGUUCGUAUGGAAGGUUCCGUUAACGGUCACGAGUUCGAAAUCGAAGGUGAAGGUGAAGGUCGUCCGUACGAAGGUACCCAGACCGCUAAACUGAAAGUUACCAAAGGUGGUCCGCUGCCGUUCGCUUGGGACAUCCUGUCCCCGCAGUUCCAGUACGGUUCCAAAGCUUACGUUAAACACCCGGCUGACAU\"\n",
    "desired_initiation_rate = 3\n",
    "optimized_rbs, optimized_rate = optimize_rbs(desired_initiation_rate, gram_stain, temperature, rRNA, RBS, CDS)\n",
    "print(f\"\\nOptimized RBS: {optimized_rbs}\")\n",
    "print(f\"Optimized RBS rate: {optimized_rate}\")"
   ]
  }
 ],
 "metadata": {
  "colab": {
   "authorship_tag": "ABX9TyN10ZyW2ym1ed7ZN9N3DWlY",
   "provenance": []
  },
  "kernelspec": {
   "display_name": "Python 3",
   "language": "python",
   "name": "python3"
  },
  "language_info": {
   "codemirror_mode": {
    "name": "ipython",
    "version": 3
   },
   "file_extension": ".py",
   "mimetype": "text/x-python",
   "name": "python",
   "nbconvert_exporter": "python",
   "pygments_lexer": "ipython3",
   "version": "3.8.10"
  }
 },
 "nbformat": 4,
 "nbformat_minor": 1
}
