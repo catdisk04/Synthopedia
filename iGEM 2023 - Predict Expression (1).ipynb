{
 "cells": [
  {
   "cell_type": "code",
   "execution_count": 1,
   "metadata": {
    "colab": {
     "base_uri": "https://localhost:8080/"
    },
    "executionInfo": {
     "elapsed": 14769,
     "status": "ok",
     "timestamp": 1696007196234,
     "user": {
      "displayName": "Anirudh Rao be21b004",
      "userId": "15393149603523611863"
     },
     "user_tz": -330
    },
    "id": "Q-N2KXLkJvF9",
    "outputId": "caefd5b5-e17d-46f3-e84d-a2b5c2aa8562"
   },
   "outputs": [
    {
     "ename": "RuntimeError",
     "evalue": "This module must ONLY run as part of a Colab notebook!",
     "output_type": "error",
     "traceback": [
      "\u001b[0;31m---------------------------------------------------------------------------\u001b[0m",
      "\u001b[0;31mModuleNotFoundError\u001b[0m                       Traceback (most recent call last)",
      "\u001b[0;32m~/.local/lib/python3.8/site-packages/condacolab.py\u001b[0m in \u001b[0;36m<module>\u001b[0;34m\u001b[0m\n\u001b[1;32m     25\u001b[0m \u001b[0;32mtry\u001b[0m\u001b[0;34m:\u001b[0m\u001b[0;34m\u001b[0m\u001b[0;34m\u001b[0m\u001b[0m\n\u001b[0;32m---> 26\u001b[0;31m     \u001b[0;32mimport\u001b[0m \u001b[0mgoogle\u001b[0m\u001b[0;34m.\u001b[0m\u001b[0mcolab\u001b[0m\u001b[0;34m\u001b[0m\u001b[0;34m\u001b[0m\u001b[0m\n\u001b[0m\u001b[1;32m     27\u001b[0m \u001b[0;32mexcept\u001b[0m \u001b[0mImportError\u001b[0m\u001b[0;34m:\u001b[0m\u001b[0;34m\u001b[0m\u001b[0;34m\u001b[0m\u001b[0m\n",
      "\u001b[0;31mModuleNotFoundError\u001b[0m: No module named 'google.colab'",
      "\nDuring handling of the above exception, another exception occurred:\n",
      "\u001b[0;31mRuntimeError\u001b[0m                              Traceback (most recent call last)",
      "\u001b[0;32m<ipython-input-1-dfa229587fce>\u001b[0m in \u001b[0;36m<module>\u001b[0;34m\u001b[0m\n\u001b[1;32m      1\u001b[0m \u001b[0mget_ipython\u001b[0m\u001b[0;34m(\u001b[0m\u001b[0;34m)\u001b[0m\u001b[0;34m.\u001b[0m\u001b[0msystem\u001b[0m\u001b[0;34m(\u001b[0m\u001b[0;34m'pip install -q condacolab'\u001b[0m\u001b[0;34m)\u001b[0m\u001b[0;34m\u001b[0m\u001b[0;34m\u001b[0m\u001b[0m\n\u001b[0;32m----> 2\u001b[0;31m \u001b[0;32mimport\u001b[0m \u001b[0mcondacolab\u001b[0m\u001b[0;34m\u001b[0m\u001b[0;34m\u001b[0m\u001b[0m\n\u001b[0m\u001b[1;32m      3\u001b[0m \u001b[0mcondacolab\u001b[0m\u001b[0;34m.\u001b[0m\u001b[0minstall\u001b[0m\u001b[0;34m(\u001b[0m\u001b[0;34m)\u001b[0m\u001b[0;34m\u001b[0m\u001b[0;34m\u001b[0m\u001b[0m\n",
      "\u001b[0;32m~/.local/lib/python3.8/site-packages/condacolab.py\u001b[0m in \u001b[0;36m<module>\u001b[0;34m\u001b[0m\n\u001b[1;32m     26\u001b[0m     \u001b[0;32mimport\u001b[0m \u001b[0mgoogle\u001b[0m\u001b[0;34m.\u001b[0m\u001b[0mcolab\u001b[0m\u001b[0;34m\u001b[0m\u001b[0;34m\u001b[0m\u001b[0m\n\u001b[1;32m     27\u001b[0m \u001b[0;32mexcept\u001b[0m \u001b[0mImportError\u001b[0m\u001b[0;34m:\u001b[0m\u001b[0;34m\u001b[0m\u001b[0;34m\u001b[0m\u001b[0m\n\u001b[0;32m---> 28\u001b[0;31m     \u001b[0;32mraise\u001b[0m \u001b[0mRuntimeError\u001b[0m\u001b[0;34m(\u001b[0m\u001b[0;34m\"This module must ONLY run as part of a Colab notebook!\"\u001b[0m\u001b[0;34m)\u001b[0m\u001b[0;34m\u001b[0m\u001b[0;34m\u001b[0m\u001b[0m\n\u001b[0m\u001b[1;32m     29\u001b[0m \u001b[0;34m\u001b[0m\u001b[0m\n\u001b[1;32m     30\u001b[0m \u001b[0;34m\u001b[0m\u001b[0m\n",
      "\u001b[0;31mRuntimeError\u001b[0m: This module must ONLY run as part of a Colab notebook!"
     ]
    }
   ],
   "source": [
    "!pip install -q condacolab\n",
    "import condacolab\n",
    "condacolab.install()"
   ]
  },
  {
   "cell_type": "code",
   "execution_count": 2,
   "metadata": {
    "colab": {
     "base_uri": "https://localhost:8080/"
    },
    "executionInfo": {
     "elapsed": 34285,
     "status": "ok",
     "timestamp": 1696007239381,
     "user": {
      "displayName": "Anirudh Rao be21b004",
      "userId": "15393149603523611863"
     },
     "user_tz": -330
    },
    "id": "Y7FKMGKwKKYP",
    "outputId": "61cb67fd-5521-4ea3-e269-1f0e548095db"
   },
   "outputs": [
    {
     "name": "stdout",
     "output_type": "stream",
     "text": [
      "Retrieving notices: ...working... done\n",
      "Collecting package metadata (current_repodata.json): done\n",
      "Solving environment: done\n",
      "\n",
      "\n",
      "==> WARNING: A newer version of conda exists. <==\n",
      "  current version: 23.7.4\n",
      "  latest version: 23.9.0\n",
      "\n",
      "Please update conda by running\n",
      "\n",
      "    $ conda update -n base -c defaults conda\n",
      "\n",
      "Or to minimize the number of packages updated during conda update use\n",
      "\n",
      "     conda install conda=23.9.0\n",
      "\n",
      "\n",
      "\n",
      "# All requested packages already installed.\n",
      "\n"
     ]
    }
   ],
   "source": [
    "!conda install -c bioconda viennarna"
   ]
  },
  {
   "cell_type": "code",
   "execution_count": 2,
   "metadata": {
    "executionInfo": {
     "elapsed": 347,
     "status": "ok",
     "timestamp": 1696007248827,
     "user": {
      "displayName": "Anirudh Rao be21b004",
      "userId": "15393149603523611863"
     },
     "user_tz": -330
    },
    "id": "88xdKObTZ8yZ"
   },
   "outputs": [],
   "source": [
    "import RNA\n",
    "import numpy as np\n",
    "import pandas as pd\n",
    "import matplotlib.pyplot as plt\n",
    "import joblib"
   ]
  },
  {
   "cell_type": "code",
   "execution_count": 3,
   "metadata": {
    "executionInfo": {
     "elapsed": 9,
     "status": "ok",
     "timestamp": 1696007249464,
     "user": {
      "displayName": "Anirudh Rao be21b004",
      "userId": "15393149603523611863"
     },
     "user_tz": -330
    },
    "id": "Gr8D2ULi5YVk"
   },
   "outputs": [],
   "source": [
    "def find_hybridization_energy(sequence1, sequence2, temp):\n",
    "\n",
    "    RNA.cvar.temperature = temp\n",
    "\n",
    "    # First, we concatenate the two RNA sequences using the '&' symbol\n",
    "    hybrid_sequence = RNA.fold_compound(f\"{sequence1}&{sequence2}\")\n",
    "\n",
    "    # Finally, we use the ViennaRNA library's inbuilt mfe_dimer function to compute the hybridization energy\n",
    "    structure, energy = hybrid_sequence.mfe_dimer()\n",
    "\n",
    "    return energy"
   ]
  },
  {
   "cell_type": "code",
   "execution_count": 4,
   "metadata": {
    "executionInfo": {
     "elapsed": 7,
     "status": "ok",
     "timestamp": 1696007249464,
     "user": {
      "displayName": "Anirudh Rao be21b004",
      "userId": "15393149603523611863"
     },
     "user_tz": -330
    },
    "id": "NdIn96w4t-uU"
   },
   "outputs": [],
   "source": [
    "def find_spacing(rRNA,rbs,temp,gram):\n",
    "\n",
    "  RNA.cvar.temperature = temp\n",
    "  min_energy = 0\n",
    "  sd = \"\"\n",
    "  best_spacing = 0\n",
    "\n",
    "  for i in range(len(rbs)-len(rRNA)+1):\n",
    "\n",
    "    energy = find_hybridization_energy(rRNA,rbs[i:i+len(rRNA)],temp)\n",
    "    spacing = len(rbs[i+len(rRNA):])\n",
    "    penalty = 1\n",
    "\n",
    "    if gram == \"Positive\":\n",
    "      opt_spacing = 9\n",
    "      if spacing < opt_spacing:\n",
    "        penalty = np.exp(-0.5*(((spacing - opt_spacing)**2)/1))                   # Punishing lower spacing more for Gram-positives\n",
    "      elif spacing > opt_spacing:\n",
    "        penalty = np.exp(-0.5*(((spacing - opt_spacing)**2)/2))\n",
    "    elif gram == \"Negative\":\n",
    "      opt_spacing = 7\n",
    "      if spacing < opt_spacing:\n",
    "        penalty = np.exp(-0.5*(((spacing - opt_spacing)**2)/2))\n",
    "      elif spacing > opt_spacing:\n",
    "        penalty = np.exp(-0.5*(((spacing - opt_spacing)**2)/1))                   # Punishing higher spacing more for Gram-negatives\n",
    "\n",
    "    energy = energy * penalty\n",
    "\n",
    "    if energy <= min_energy:\n",
    "      min_energy = energy\n",
    "      sd = rbs[i:i+len(rRNA)]\n",
    "      best_spacing = spacing\n",
    "\n",
    "  return find_hybridization_energy(rRNA,sd,temp), sd, best_spacing"
   ]
  },
  {
   "cell_type": "code",
   "execution_count": 5,
   "metadata": {
    "executionInfo": {
     "elapsed": 6,
     "status": "ok",
     "timestamp": 1696007249464,
     "user": {
      "displayName": "Anirudh Rao be21b004",
      "userId": "15393149603523611863"
     },
     "user_tz": -330
    },
    "id": "5wy1M6wsCSRc"
   },
   "outputs": [],
   "source": [
    "def find_au_score(rbs,sd):\n",
    "\n",
    "    sd_loc = rbs.index(sd)\n",
    "    upstream = rbs[sd_loc-11 : sd_loc]\n",
    "\n",
    "    au_score = upstream.count(\"A\") + upstream.count(\"U\")\n",
    "\n",
    "    if len(upstream) == 0:\n",
    "      return 0\n",
    "    else:\n",
    "      return au_score / len(upstream)"
   ]
  },
  {
   "cell_type": "code",
   "execution_count": 6,
   "metadata": {
    "executionInfo": {
     "elapsed": 6,
     "status": "ok",
     "timestamp": 1696007249464,
     "user": {
      "displayName": "Anirudh Rao be21b004",
      "userId": "15393149603523611863"
     },
     "user_tz": -330
    },
    "id": "fUWOmOJkLUev"
   },
   "outputs": [],
   "source": [
    "def find_accessibility_score(rbs,cds,sd,temp):\n",
    "\n",
    "  RNA.cvar.temperature = temp\n",
    "\n",
    "  sd_loc = rbs.index(sd)\n",
    "\n",
    "  upstream = rbs[-27:]\n",
    "  downstream = cds[:54-len(upstream)]\n",
    "\n",
    "  structure, fold_energy = RNA.fold(upstream + downstream)\n",
    "\n",
    "  loop_count = structure.count(\".\")                                               # Number of unpaired nucleotides\n",
    "  stack_count = structure.count(\"(\") + structure.count(\")\")                       # Number of paired nucleotides\n",
    "\n",
    "  accessibility_score = loop_count / (loop_count + stack_count)\n",
    "\n",
    "  return structure, accessibility_score, fold_energy"
   ]
  },
  {
   "cell_type": "code",
   "execution_count": 7,
   "metadata": {
    "executionInfo": {
     "elapsed": 6,
     "status": "ok",
     "timestamp": 1696007249464,
     "user": {
      "displayName": "Anirudh Rao be21b004",
      "userId": "15393149603523611863"
     },
     "user_tz": -330
    },
    "id": "f1AXvLhKRFfi"
   },
   "outputs": [],
   "source": [
    "def find_standby_score(rbs,sd,structure):\n",
    "\n",
    "  sd_loc = rbs.index(sd)\n",
    "\n",
    "  upstream = rbs[:sd_loc]\n",
    "  upstream_structure = structure[:sd_loc]\n",
    "  rRNA_length = 8\n",
    "\n",
    "  if len(upstream_structure) != 0:\n",
    "\n",
    "    upstream = upstream[::-1]\n",
    "    upstream_structure = upstream_structure[::-1]\n",
    "\n",
    "    best_accessibility = 0\n",
    "\n",
    "    for i in range(len(upstream)-rRNA_length+1):\n",
    "\n",
    "      gap = i+rRNA_length\n",
    "      loop_count = upstream_structure[i:i+rRNA_length].count(\".\")\n",
    "      stack_count = upstream_structure[i:i+rRNA_length].count(\"(\") + upstream_structure[i:i+rRNA_length].count(\")\")\n",
    "      accessibility = loop_count / rRNA_length\n",
    "      penalised_accessibility = accessibility / gap\n",
    "\n",
    "      if penalised_accessibility > best_accessibility:\n",
    "        best_accessibility = accessibility\n",
    "\n",
    "    return best_accessibility\n",
    "\n",
    "  else:\n",
    "\n",
    "    return 0"
   ]
  },
  {
   "cell_type": "code",
   "execution_count": 8,
   "metadata": {
    "executionInfo": {
     "elapsed": 6,
     "status": "ok",
     "timestamp": 1696007249465,
     "user": {
      "displayName": "Anirudh Rao be21b004",
      "userId": "15393149603523611863"
     },
     "user_tz": -330
    },
    "id": "CDLbAQNelOqa"
   },
   "outputs": [],
   "source": [
    "codon_scores = {\"AGC\":0,\"CCG\":0.78,\"CAG\":0.95,\"UGC\":1.01,\"CUC\":1.1,\"UCC\":1.1,\"CCC\":1.17,\"UAG\":1.19,\"CGG\":1.2,\"CUU\":1.21,\"CCU\":1.26,\"UUC\":1.29,\"CCA\":1.3,\"UAC\":1.3,\"CGC\":1.31,\"UCU\":1.32,\"ACC\":1.32,\"ACA\":1.33,\"CGU\":1.33,\"GCC\":1.33,\"CUA\":1.34,\"AAC\":1.37,\"CAC\":1.41,\"UCA\":1.41,\"AAA\":1.43,\"GCU\":1.45,\"AGU\":1.46,\"UAA\":1.47,\"GGC\":1.48,\"AGA\":1.51,\"UUU\":1.54,\"GAC\":1.54,\"AAG\":1.56,\"ACU\":1.56,\"UGA\":1.56,\"UGU\":1.59,\"CAA\":1.59,\"GUC\":1.61,\"GCA\":1.64,\"UGG\":1.66,\"CGA\":1.69,\"AGG\":1.71,\"GGA\":1.71,\"GGU\":1.71,\"GAG\":1.72,\"UUA\":1.72,\"UCG\":1.78,\"GGG\":1.79,\"GCG\":1.84,\"ACG\":1.88,\"GAU\":1.92,\"AAU\":1.93,\"GAA\":2.02,\"GUU\":2.1,\"GUA\":2.11,\"UAU\":2.16,\"CAU\":2.17,\"AUC\":2.41,\"AUU\":2.57,\"CUG\":2.63,\"AUA\":2.73,\"UUG\":4.18,\"GUG\":4.22,\"AUG\":4.3}"
   ]
  },
  {
   "cell_type": "code",
   "execution_count": 9,
   "metadata": {
    "executionInfo": {
     "elapsed": 6,
     "status": "ok",
     "timestamp": 1696007249465,
     "user": {
      "displayName": "Anirudh Rao be21b004",
      "userId": "15393149603523611863"
     },
     "user_tz": -330
    },
    "id": "QbSeQAtptsoC"
   },
   "outputs": [],
   "source": [
    "def find_codon_score(cds):\n",
    "\n",
    "  codon = cds[:3]\n",
    "  codon_score = codon_scores[codon]\n",
    "\n",
    "  return codon_score"
   ]
  },
  {
   "cell_type": "code",
   "execution_count": 10,
   "metadata": {
    "executionInfo": {
     "elapsed": 1281,
     "status": "ok",
     "timestamp": 1696007250741,
     "user": {
      "displayName": "Anirudh Rao be21b004",
      "userId": "15393149603523611863"
     },
     "user_tz": -330
    },
    "id": "PXxkog8j5gIi"
   },
   "outputs": [],
   "source": [
    "model = joblib.load(\"iGEM IITM 2023 - Final Model.joblib\")"
   ]
  },
  {
   "cell_type": "code",
   "execution_count": 15,
   "metadata": {
    "executionInfo": {
     "elapsed": 3,
     "status": "ok",
     "timestamp": 1696007312089,
     "user": {
      "displayName": "Anirudh Rao be21b004",
      "userId": "15393149603523611863"
     },
     "user_tz": -330
    },
    "id": "HwjX-8vs5ioW"
   },
   "outputs": [],
   "source": [
    "def find_tir(gram_stain,temperature,rRNA,RBS,CDS):\n",
    "\n",
    "  rRNA = rRNA.upper().replace(\"T\",\"U\")\n",
    "  RBS = RBS.upper().replace(\"T\",\"U\")\n",
    "  CDS = CDS.upper().replace(\"T\",\"U\")\n",
    "  rRNA = rRNA[-8:]\n",
    "\n",
    "  binding_energy, shine_dalgarno, spacing = find_spacing(rRNA,RBS,temperature,gram_stain)\n",
    "  au_score = find_au_score(RBS,shine_dalgarno)\n",
    "  structure, accessibility_score, folding_energy = find_accessibility_score(RBS,CDS,shine_dalgarno,temperature)\n",
    "  standby_accessibility = find_standby_score(RBS,shine_dalgarno,structure)\n",
    "  codon_score = find_codon_score(CDS)\n",
    "\n",
    "  gram_stain_numeric = 1\n",
    "  if gram_stain == \"Negative\":\n",
    "    gram_stain_numeric = 0\n",
    "\n",
    "  features = np.array([binding_energy, spacing, au_score, accessibility_score, folding_energy, standby_accessibility, codon_score,gram_stain_numeric]).reshape(1,-1)\n",
    "  df = pd.DataFrame(features)\n",
    "  df.columns = [\"Binding energy\",\"Spacing\",\"AU score\",\"Accessibility score\",\"Folding energy\",\"Standby accessibility\",\"Codon score\",\"Gram stain numeric\"]\n",
    "\n",
    "  tir = model.predict(df)[0]\n",
    "\n",
    "  return tir"
   ]
  },
  {
   "cell_type": "code",
   "execution_count": 16,
   "metadata": {
    "colab": {
     "base_uri": "https://localhost:8080/"
    },
    "executionInfo": {
     "elapsed": 4,
     "status": "ok",
     "timestamp": 1696007313658,
     "user": {
      "displayName": "Anirudh Rao be21b004",
      "userId": "15393149603523611863"
     },
     "user_tz": -330
    },
    "id": "AuNE_wR76PP_",
    "outputId": "13c39877-1ae1-40c3-bc6a-c763d09e2703"
   },
   "outputs": [
    {
     "data": {
      "text/plain": [
       "4.01895293159221"
      ]
     },
     "execution_count": 16,
     "metadata": {},
     "output_type": "execute_result"
    }
   ],
   "source": [
    "gram = \"Negative\"\n",
    "temp = 37\n",
    "rRNA = \"CCUCCUUA\"\n",
    "rbs = \"UUCUAGAGUGCAUAAGGAGUGCUCG\"\n",
    "cds = \"AUGUCCAGAUUAGAUAAAAGUAAAGUGAUGGCGAGCUCUGAAGACGUUAUCAAAGAGUUCAUGCGUUUCAAAGUUCGUAUGGAAGGUUCCGUUAACGGUCACGAGUUCGAAAUCGAAGGUGAAGGUGAAGGUCGUCCGUACGAAGGUACCCAGACCGCUAAACUGAAAGUUACCAAAGGUGGUCCGCUGCCGUUCGCUUGGGACAUCCUGUCCCCGCAGUUCCAGUACGGUUCCAAAGCUUACGUUAAACACCCGGCUGACAU\"\n",
    "find_tir(gram, temp, rRNA, rbs, cds)"
   ]
  }
 ],
 "metadata": {
  "colab": {
   "authorship_tag": "ABX9TyMs6yDbsKxmpVTVofnApo5H",
   "provenance": []
  },
  "kernelspec": {
   "display_name": "Python 3",
   "language": "python",
   "name": "python3"
  },
  "language_info": {
   "codemirror_mode": {
    "name": "ipython",
    "version": 3
   },
   "file_extension": ".py",
   "mimetype": "text/x-python",
   "name": "python",
   "nbconvert_exporter": "python",
   "pygments_lexer": "ipython3",
   "version": "3.8.10"
  }
 },
 "nbformat": 4,
 "nbformat_minor": 1
}
